{
 "cells": [
  {
   "cell_type": "code",
   "execution_count": 14,
   "id": "56f5aada-cbbd-44ed-b4d5-c1b050b81fcd",
   "metadata": {
    "tags": []
   },
   "outputs": [],
   "source": [
    "#Based on the ubisense data output structure\n",
    "# < > {} : \\  the shit i cant find on a polish keyboard\n",
    "import statistics\n",
    "import csv\n",
    "import numpy as np\n",
    "#data_reader = csv.reader(open(r\"C:/Users/nikke/Desktop/Master/masters-software/datasets/ubisense_MIRexperiment_data.txt\", encoding=\"utf-16\"), delimiter = \" \")\n",
    "\n",
    "\n",
    "#Maps data in  an array on the format:\n",
    "#   0        1       2      3                 4             5  6  7     8     \n",
    "#[index, timestamp, ID, sequence(no clue), n_meas(no clue), x, y, z, variance]\n",
    "def to_array(path, delimiter):                 \n",
    "    data_reader = csv.reader(open(path, encoding=\"utf-16\"), delimiter = delimiter) #assuming utf16\n",
    "    return_array=[]\n",
    "    for count, x in enumerate(data_reader):\n",
    "        if count > 0:\n",
    "            tmp = []\n",
    "            for y in x:\n",
    "                #ignores empty and \"ok\" values\n",
    "                if y != \"\" and y != \"ok\" :\n",
    "                    tmp.append(y)\n",
    "\n",
    "            return_array.append(tmp)\n",
    "\n",
    "    return return_array"
   ]
  },
  {
   "cell_type": "code",
   "execution_count": 2,
   "id": "35afaec9-f6c0-4a74-91c4-136421154797",
   "metadata": {
    "tags": []
   },
   "outputs": [],
   "source": [
    "#example format of function call\n",
    "#to_array(\"C:/Users/nikke/Desktop/Master/masters-software/datasets/ubisense_MIRexperiment_data.txt\", \" \")"
   ]
  },
  {
   "cell_type": "code",
   "execution_count": 3,
   "id": "c3f3142c-2a76-4aba-a25a-44cdaead4426",
   "metadata": {
    "tags": []
   },
   "outputs": [],
   "source": [
    "def seperate_on_ID(array):\n",
    "    return_list = []\n",
    "    unique_values = []\n",
    "    for sublist in array:\n",
    "        if sublist[2] not in unique_values:\n",
    "            unique_values.append(sublist[2])\n",
    "\n",
    "\n",
    "    for ID in unique_values:\n",
    "        return_list.append(list(filter(lambda c: c[2] == ID, array)))\n",
    "\n",
    "    return return_list"
   ]
  },
  {
   "cell_type": "code",
   "execution_count": 4,
   "id": "705dda5b-3886-4346-9494-811e2c6ce794",
   "metadata": {
    "tags": []
   },
   "outputs": [],
   "source": [
    "#Returns the median and mean in an array\n",
    "#Data must be at least run through to_array\n",
    "def getMedianMean(data):\n",
    "    #trying to find highest value of variance and stuff\n",
    "    \n",
    "    try:\n",
    "        varArr = []\n",
    "        for IDs in data:\n",
    "            #srt = sorted(IDs, key=lambda x: x[8], reverse=True)\n",
    "            for val in IDs:\n",
    "                varArr.append(float(val[8]))\n",
    "\n",
    "        #print(sorted(varArr, reverse=True))\n",
    "        return[statistics.median(varArr), statistics.mean(varArr)]\n",
    "    \n",
    "    #Catch indexerror of using an unsplit array\n",
    "    except IndexError:\n",
    "        varArr = []\n",
    "        \n",
    "        #srt = sorted(IDs, key=lambda x: x[8], reverse=True)\n",
    "        for val in data:\n",
    "            varArr.append(float(val[8]))\n",
    "\n",
    "        #print(sorted(varArr, reverse=True))\n",
    "        return[statistics.median(varArr), statistics.mean(varArr)]\n",
    "    \n"
   ]
  },
  {
   "cell_type": "code",
   "execution_count": 17,
   "id": "390b914a-0d09-4f45-9336-0a39a36d7d10",
   "metadata": {
    "tags": []
   },
   "outputs": [],
   "source": [
    "#Reduces list to indices supplied. Should probably be\n",
    "#assumes list is seperated on ID, and I guess you better know in which order those IDs are.\n",
    "def readyData(data, indices, variance):\n",
    "    try:\n",
    "        #List comprehension is incomprehensible \n",
    "        return [[[float(val[index]) for index in indices] for val in inner if float(val[8]) < variance] for inner in data]\n",
    "        \n",
    "    except IndexError:\n",
    "        print(\"Index out of bounds - Use seperate_on_ID function or think harder\")"
   ]
  },
  {
   "cell_type": "code",
   "execution_count": 6,
   "id": "8f8baed3-38b8-4a3c-a8c4-936bd5b11d0a",
   "metadata": {
    "tags": []
   },
   "outputs": [],
   "source": [
    "#quickdata = seperate_on_ID(to_array(\"C:/Users/nikke/Desktop/Master/masters-software/datasets/ubisense_MIRexperiment_data.txt\", \" \"))\n",
    "\n",
    "#test = readyData(quickdata, [5,6], 4)\n",
    "\n",
    "#print(test[0])"
   ]
  },
  {
   "cell_type": "code",
   "execution_count": 7,
   "id": "578ec1f0-b18d-4be5-a698-ee58a0af19ad",
   "metadata": {
    "tags": []
   },
   "outputs": [],
   "source": [
    "def create_input_output_arrays(xy_pairs, input_seq_len, output_seq_len):\n",
    "    \"\"\"\n",
    "    Creates input and output arrays from a 2D array of x-y pairs.\n",
    "\n",
    "    Args:\n",
    "        xy_pairs (list of lists): A 2D array of x-y coordinate pairs.\n",
    "        input_seq_len (int): The length of the input sequence.\n",
    "        output_seq_len (int): The length of the output sequence.\n",
    "\n",
    "    Returns:\n",
    "        array: An array of the input and output arrays.\n",
    "\n",
    "    \"\"\"\n",
    "\n",
    "    # Initialize empty lists for input and output sequences\n",
    "    input_seq = []\n",
    "    output_seq = []\n",
    "\n",
    "    # Loop through xy_pairs, starting at index input_seq_len\n",
    "    for i in range(input_seq_len, len(xy_pairs) - output_seq_len + 1):\n",
    "\n",
    "        # Get the input sequence by selecting the previous input_seq_len xy pairs\n",
    "        input_seq.append(xy_pairs[i - input_seq_len:i])\n",
    "\n",
    "        # Get the output sequence by selecting the next output_seq_len xy pairs\n",
    "        output_seq.append(xy_pairs[i:i + output_seq_len])\n",
    "\n",
    "    # Convert the input and output sequences to numpy arrays\n",
    "    input_seq = np.array(input_seq)\n",
    "    output_seq = np.array(output_seq)\n",
    "\n",
    "    # Return the input and output arrays as a tuple\n",
    "    return [input_seq, output_seq]"
   ]
  },
  {
   "cell_type": "code",
   "execution_count": 16,
   "id": "85a50046-b30b-4e88-b89a-8d634bc8a33b",
   "metadata": {
    "tags": []
   },
   "outputs": [],
   "source": [
    "#quickdata = seperate_on_ID(to_array(\"C:/Users/nikke/Desktop/Master/masters-software/datasets/ubisense_MIRexperiment_data.txt\", \" \"))\n",
    "\n",
    "#test = readyData(quickdata, [5,6], 4)\n",
    "#create_input_output_arrays(test[0], 3, 2)"
   ]
  },
  {
   "cell_type": "code",
   "execution_count": 18,
   "id": "1181f34b-a81f-46ba-b0c4-8042a68f5c51",
   "metadata": {
    "tags": []
   },
   "outputs": [],
   "source": [
    "def create_input_output_pairs(xy_pairs, input_seq_len, output_seq_len):\n",
    "    X, Y = [], []\n",
    "    for i in range(len(xy_pairs) - input_seq_len - output_seq_len + 1):\n",
    "        input_seq = [[float(val) for val in xy_pairs[j+k]] for k in range(input_seq_len) for j in range(i)]\n",
    "        output_seq = [[float(val) for val in xy_pairs[j+k]] for k in range(output_seq_len) for j in range(i+input_seq_len)]\n",
    "        X.append(input_seq)\n",
    "        Y.append(output_seq)\n",
    "    return np.array(X), np.array(Y)"
   ]
  },
  {
   "cell_type": "code",
   "execution_count": null,
   "id": "fb698a28-0bb1-40cf-9e5c-46353da82d8b",
   "metadata": {},
   "outputs": [],
   "source": []
  }
 ],
 "metadata": {
  "kernelspec": {
   "display_name": "Python 3 (ipykernel)",
   "language": "python",
   "name": "python3"
  },
  "language_info": {
   "codemirror_mode": {
    "name": "ipython",
    "version": 3
   },
   "file_extension": ".py",
   "mimetype": "text/x-python",
   "name": "python",
   "nbconvert_exporter": "python",
   "pygments_lexer": "ipython3",
   "version": "3.11.2"
  }
 },
 "nbformat": 4,
 "nbformat_minor": 5
}
